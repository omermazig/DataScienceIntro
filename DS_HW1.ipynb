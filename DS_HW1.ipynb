{
 "cells": [
  {
   "cell_type": "markdown",
   "metadata": {
    "id": "qomnUAPccZWd"
   },
   "source": [
    "# Submission Guidelines:\n",
    "### Since the HW grading is done in a semi-automatic manner, please adhere to the following naming format for your submission. Each group of students (mostly pairs, with some approved exceptions) should submit a Jupyter notebook (.ipynb file and not a .zip file) whose name is the underscored-separated id list of all the submitters. For example, for two submitters, the naming format is: id1_id2.ipynb."
   ]
  },
  {
   "cell_type": "markdown",
   "metadata": {
    "id": "wnUz8F7LcZWf"
   },
   "source": [
    "# Data Understanding and Data Preparation Exercise\n",
    "### Courtesy of Intel Advanced Analytics\n",
    "\n"
   ]
  },
  {
   "cell_type": "markdown",
   "metadata": {
    "id": "PpI2iJ3tcZWf"
   },
   "source": [
    "In this exercise you will explore data that is related with direct marketing campaigns of a Portuguese banking institution. \n",
    "The marketing campaigns were based on phone calls. Often, more than one contact to the same client was required, \n",
    "in order to access if the product (bank term deposit) would be (or not) subscribed. \n",
    "\n",
    "Data source:\n",
    " [Moro et al., 2011] S. Moro, R. Laureano and P. Cortez. Using Data Mining for Bank Direct Marketing: An Application of the CRISP-DM Methodology. \n",
    " \n",
    "Good luck!"
   ]
  },
  {
   "cell_type": "markdown",
   "metadata": {
    "id": "poc_QZMEcZWf"
   },
   "source": [
    "# Q1\n"
   ]
  },
  {
   "cell_type": "markdown",
   "metadata": {
    "id": "wnsjPMVkcZWg"
   },
   "source": [
    "## Familiarizing yourself with the data"
   ]
  },
  {
   "cell_type": "markdown",
   "metadata": {
    "id": "4fL9u4AVcZWg"
   },
   "source": [
    "1) Download the 'bank-full_2016.csv' database to a local directory, and load it into a DataFrame object: http://slavanov.com/teaching/ds1617b/bank-full_2016.csv"
   ]
  },
  {
   "cell_type": "code",
   "execution_count": 127,
   "metadata": {
    "collapsed": true,
    "id": "LEawZbJbcZWg",
    "ExecuteTime": {
     "start_time": "2023-05-03T23:44:18.209536Z",
     "end_time": "2023-05-03T23:44:19.176074Z"
    }
   },
   "outputs": [],
   "source": [
    "import pandas as pd\n",
    "\n",
    "df = pd.read_csv(\"bank-full_2016.csv\")"
   ]
  },
  {
   "cell_type": "markdown",
   "metadata": {
    "id": "PNt3Bf7acZWg"
   },
   "source": [
    "2) Explore your data a bit:\n",
    "- What are the dimensions of the table?\n",
    "- What are the different attributes in it?\n",
    "- Return a frequency table of the \"outcome\" category in the table - i.e return all the possible values in that category, and how many times each value is present in the table.\n",
    "- Display the first 5 rows of the table."
   ]
  },
  {
   "cell_type": "code",
   "execution_count": 128,
   "metadata": {
    "id": "ZNJL3EfNcZWh",
    "ExecuteTime": {
     "start_time": "2023-05-03T23:44:18.311083Z",
     "end_time": "2023-05-03T23:44:19.176272Z"
    }
   },
   "outputs": [
    {
     "name": "stdout",
     "output_type": "stream",
     "text": [
      "1. The dimensions of the table are (45211, 17)\n"
     ]
    }
   ],
   "source": [
    "print(f\"1. The dimensions of the table are {df.shape}\")"
   ]
  },
  {
   "cell_type": "code",
   "execution_count": 129,
   "outputs": [
    {
     "name": "stdout",
     "output_type": "stream",
     "text": [
      "2. The different attributes in it are ['age', 'job', 'marital', 'education', 'default_credit', 'balance', 'housing_loan', 'personal_loan', 'contact', 'day', 'month', 'duration', 'campaign', 'days_from_last_contact', 'previous_campaign_contacts', 'previous_campaign_outcome', 'outcome']\n"
     ]
    }
   ],
   "source": [
    "print(f\"2. The different attributes in it are {df.columns.tolist()}\")"
   ],
   "metadata": {
    "collapsed": false,
    "ExecuteTime": {
     "start_time": "2023-05-03T23:44:18.319370Z",
     "end_time": "2023-05-03T23:44:19.176272Z"
    }
   }
  },
  {
   "cell_type": "code",
   "execution_count": 130,
   "outputs": [
    {
     "name": "stdout",
     "output_type": "stream",
     "text": [
      "A frequency table of the 'outcome' category in the table:\n"
     ]
    },
    {
     "data": {
      "text/plain": "outcome\nno     39922\nyes     5289\nName: count, dtype: int64"
     },
     "execution_count": 130,
     "metadata": {},
     "output_type": "execute_result"
    }
   ],
   "source": [
    "print(\"A frequency table of the 'outcome' category in the table:\")\n",
    "df['outcome'].value_counts()"
   ],
   "metadata": {
    "collapsed": false,
    "ExecuteTime": {
     "start_time": "2023-05-03T23:44:18.332400Z",
     "end_time": "2023-05-03T23:44:19.176272Z"
    }
   }
  },
  {
   "cell_type": "code",
   "execution_count": 131,
   "outputs": [
    {
     "name": "stdout",
     "output_type": "stream",
     "text": [
      "The first 5 rows of the table:\n"
     ]
    },
    {
     "data": {
      "text/plain": "   age           job  marital  education default_credit  balance housing_loan   \n0   58    management  married   tertiary             no     2143          yes  \\\n1   44    technician   single  secondary             no       29          yes   \n2   33  entrepreneur  married  secondary             no        2          yes   \n3   47   blue-collar  married    unknown             no     1506          yes   \n4   33       unknown   single    unknown             no        1           no   \n\n  personal_loan  contact  day month  duration  campaign   \n0            no  unknown    5   may       261         1  \\\n1            no  unknown    5   may       151         1   \n2           yes  unknown    5   may        76         1   \n3            no  unknown    5   may        92         1   \n4            no  unknown    5   may       198         1   \n\n   days_from_last_contact  previous_campaign_contacts   \n0                     NaN                           0  \\\n1                     NaN                           0   \n2                     NaN                           0   \n3                     NaN                           0   \n4                     NaN                           0   \n\n  previous_campaign_outcome outcome  \n0                   unknown      no  \n1                   unknown      no  \n2                   unknown      no  \n3                   unknown      no  \n4                   unknown      no  ",
      "text/html": "<div>\n<style scoped>\n    .dataframe tbody tr th:only-of-type {\n        vertical-align: middle;\n    }\n\n    .dataframe tbody tr th {\n        vertical-align: top;\n    }\n\n    .dataframe thead th {\n        text-align: right;\n    }\n</style>\n<table border=\"1\" class=\"dataframe\">\n  <thead>\n    <tr style=\"text-align: right;\">\n      <th></th>\n      <th>age</th>\n      <th>job</th>\n      <th>marital</th>\n      <th>education</th>\n      <th>default_credit</th>\n      <th>balance</th>\n      <th>housing_loan</th>\n      <th>personal_loan</th>\n      <th>contact</th>\n      <th>day</th>\n      <th>month</th>\n      <th>duration</th>\n      <th>campaign</th>\n      <th>days_from_last_contact</th>\n      <th>previous_campaign_contacts</th>\n      <th>previous_campaign_outcome</th>\n      <th>outcome</th>\n    </tr>\n  </thead>\n  <tbody>\n    <tr>\n      <th>0</th>\n      <td>58</td>\n      <td>management</td>\n      <td>married</td>\n      <td>tertiary</td>\n      <td>no</td>\n      <td>2143</td>\n      <td>yes</td>\n      <td>no</td>\n      <td>unknown</td>\n      <td>5</td>\n      <td>may</td>\n      <td>261</td>\n      <td>1</td>\n      <td>NaN</td>\n      <td>0</td>\n      <td>unknown</td>\n      <td>no</td>\n    </tr>\n    <tr>\n      <th>1</th>\n      <td>44</td>\n      <td>technician</td>\n      <td>single</td>\n      <td>secondary</td>\n      <td>no</td>\n      <td>29</td>\n      <td>yes</td>\n      <td>no</td>\n      <td>unknown</td>\n      <td>5</td>\n      <td>may</td>\n      <td>151</td>\n      <td>1</td>\n      <td>NaN</td>\n      <td>0</td>\n      <td>unknown</td>\n      <td>no</td>\n    </tr>\n    <tr>\n      <th>2</th>\n      <td>33</td>\n      <td>entrepreneur</td>\n      <td>married</td>\n      <td>secondary</td>\n      <td>no</td>\n      <td>2</td>\n      <td>yes</td>\n      <td>yes</td>\n      <td>unknown</td>\n      <td>5</td>\n      <td>may</td>\n      <td>76</td>\n      <td>1</td>\n      <td>NaN</td>\n      <td>0</td>\n      <td>unknown</td>\n      <td>no</td>\n    </tr>\n    <tr>\n      <th>3</th>\n      <td>47</td>\n      <td>blue-collar</td>\n      <td>married</td>\n      <td>unknown</td>\n      <td>no</td>\n      <td>1506</td>\n      <td>yes</td>\n      <td>no</td>\n      <td>unknown</td>\n      <td>5</td>\n      <td>may</td>\n      <td>92</td>\n      <td>1</td>\n      <td>NaN</td>\n      <td>0</td>\n      <td>unknown</td>\n      <td>no</td>\n    </tr>\n    <tr>\n      <th>4</th>\n      <td>33</td>\n      <td>unknown</td>\n      <td>single</td>\n      <td>unknown</td>\n      <td>no</td>\n      <td>1</td>\n      <td>no</td>\n      <td>no</td>\n      <td>unknown</td>\n      <td>5</td>\n      <td>may</td>\n      <td>198</td>\n      <td>1</td>\n      <td>NaN</td>\n      <td>0</td>\n      <td>unknown</td>\n      <td>no</td>\n    </tr>\n  </tbody>\n</table>\n</div>"
     },
     "execution_count": 131,
     "metadata": {},
     "output_type": "execute_result"
    }
   ],
   "source": [
    "print(\"The first 5 rows of the table:\")\n",
    "df.head(5)"
   ],
   "metadata": {
    "collapsed": false,
    "ExecuteTime": {
     "start_time": "2023-05-03T23:44:18.359571Z",
     "end_time": "2023-05-03T23:44:19.209637Z"
    }
   }
  },
  {
   "cell_type": "markdown",
   "metadata": {
    "id": "naq7YxnjcZWh"
   },
   "source": [
    "3) What is the data type of each attribute in the table?"
   ]
  },
  {
   "cell_type": "code",
   "execution_count": 132,
   "metadata": {
    "id": "Ydrl7UhjcZWh",
    "ExecuteTime": {
     "start_time": "2023-05-03T23:44:18.392901Z",
     "end_time": "2023-05-03T23:44:19.209637Z"
    }
   },
   "outputs": [
    {
     "name": "stdout",
     "output_type": "stream",
     "text": [
      "The data type of each attribute in the table is:\n"
     ]
    },
    {
     "data": {
      "text/plain": "age                             int64\njob                            object\nmarital                        object\neducation                      object\ndefault_credit                 object\nbalance                         int64\nhousing_loan                   object\npersonal_loan                  object\ncontact                        object\nday                             int64\nmonth                          object\nduration                        int64\ncampaign                        int64\ndays_from_last_contact        float64\nprevious_campaign_contacts      int64\nprevious_campaign_outcome      object\noutcome                        object\ndtype: object"
     },
     "execution_count": 132,
     "metadata": {},
     "output_type": "execute_result"
    }
   ],
   "source": [
    "print(\"The data type of each attribute in the table is:\")\n",
    "df.dtypes"
   ]
  },
  {
   "cell_type": "markdown",
   "metadata": {
    "id": "BUkKOT79cZWh"
   },
   "source": [
    "## Manipulating DataFrames"
   ]
  },
  {
   "cell_type": "markdown",
   "metadata": {
    "id": "VrrB2Ft_cZWh"
   },
   "source": [
    "1) Add to the table a Boolean attribute called 'isContactKnown'. It should say for each element if the 'contact' category is 'unknown' or is it 'cellular'/'telephone'"
   ]
  },
  {
   "cell_type": "code",
   "execution_count": 133,
   "metadata": {
    "id": "tZ9bWTR1cZWh",
    "ExecuteTime": {
     "start_time": "2023-05-03T23:44:18.409580Z",
     "end_time": "2023-05-03T23:44:19.209637Z"
    }
   },
   "outputs": [
    {
     "data": {
      "text/plain": "0          unknown\n1          unknown\n2          unknown\n3          unknown\n4          unknown\n           ...    \n45206     cellular\n45207     cellular\n45208     cellular\n45209    telephone\n45210     cellular\nName: contact, Length: 45211, dtype: object"
     },
     "execution_count": 133,
     "metadata": {},
     "output_type": "execute_result"
    }
   ],
   "source": [
    "df['isContactKnown'] = df['contact'] == \"unknown\"\n",
    "df['contact']"
   ]
  },
  {
   "cell_type": "markdown",
   "metadata": {
    "id": "_NbAtqqTcZWh"
   },
   "source": [
    "2) Change the type of the 'campaign' attribute to Categorical data."
   ]
  },
  {
   "cell_type": "code",
   "execution_count": 134,
   "metadata": {
    "collapsed": true,
    "id": "OPvSJTlKcZWi",
    "ExecuteTime": {
     "start_time": "2023-05-03T23:44:18.426054Z",
     "end_time": "2023-05-03T23:44:19.209637Z"
    }
   },
   "outputs": [
    {
     "data": {
      "text/plain": "dtype('int64')"
     },
     "execution_count": 134,
     "metadata": {},
     "output_type": "execute_result"
    }
   ],
   "source": [
    "df['campaign'].convert_dtypes('category')\n",
    "df['campaign'].dtype"
   ]
  },
  {
   "cell_type": "markdown",
   "metadata": {
    "id": "PqJBmDAScZWi"
   },
   "source": [
    "## Data Distribution"
   ]
  },
  {
   "cell_type": "markdown",
   "metadata": {
    "id": "qUFu_WWBcZWi"
   },
   "source": [
    "1) What is the range of values for each attribute in the table? what are the mean, std, median values for each category? Hint: You can do all this with one command!"
   ]
  },
  {
   "cell_type": "code",
   "execution_count": 135,
   "metadata": {
    "id": "usLFZLf6cZWi",
    "ExecuteTime": {
     "start_time": "2023-05-03T23:44:18.431244Z",
     "end_time": "2023-05-03T23:44:19.226343Z"
    }
   },
   "outputs": [
    {
     "data": {
      "text/plain": "                age        balance           day      duration      campaign   \ncount  45211.000000   45211.000000  45211.000000  45211.000000  45211.000000  \\\nmean      40.936210    1362.272058     15.806419    258.163080      2.763841   \nstd       10.618762    3044.765829      8.322476    257.527812      3.098021   \nmin       18.000000   -8019.000000      1.000000      0.000000      1.000000   \n25%       33.000000      72.000000      8.000000    103.000000      1.000000   \n50%       39.000000     448.000000     16.000000    180.000000      2.000000   \n75%       48.000000    1428.000000     21.000000    319.000000      3.000000   \nmax       95.000000  102127.000000     31.000000   4918.000000     63.000000   \n\n       days_from_last_contact  previous_campaign_contacts  \ncount             8257.000000                45211.000000  \nmean               224.577692                    0.580323  \nstd                115.344035                    2.303441  \nmin                  1.000000                    0.000000  \n25%                133.000000                    0.000000  \n50%                194.000000                    0.000000  \n75%                327.000000                    0.000000  \nmax                871.000000                  275.000000  ",
      "text/html": "<div>\n<style scoped>\n    .dataframe tbody tr th:only-of-type {\n        vertical-align: middle;\n    }\n\n    .dataframe tbody tr th {\n        vertical-align: top;\n    }\n\n    .dataframe thead th {\n        text-align: right;\n    }\n</style>\n<table border=\"1\" class=\"dataframe\">\n  <thead>\n    <tr style=\"text-align: right;\">\n      <th></th>\n      <th>age</th>\n      <th>balance</th>\n      <th>day</th>\n      <th>duration</th>\n      <th>campaign</th>\n      <th>days_from_last_contact</th>\n      <th>previous_campaign_contacts</th>\n    </tr>\n  </thead>\n  <tbody>\n    <tr>\n      <th>count</th>\n      <td>45211.000000</td>\n      <td>45211.000000</td>\n      <td>45211.000000</td>\n      <td>45211.000000</td>\n      <td>45211.000000</td>\n      <td>8257.000000</td>\n      <td>45211.000000</td>\n    </tr>\n    <tr>\n      <th>mean</th>\n      <td>40.936210</td>\n      <td>1362.272058</td>\n      <td>15.806419</td>\n      <td>258.163080</td>\n      <td>2.763841</td>\n      <td>224.577692</td>\n      <td>0.580323</td>\n    </tr>\n    <tr>\n      <th>std</th>\n      <td>10.618762</td>\n      <td>3044.765829</td>\n      <td>8.322476</td>\n      <td>257.527812</td>\n      <td>3.098021</td>\n      <td>115.344035</td>\n      <td>2.303441</td>\n    </tr>\n    <tr>\n      <th>min</th>\n      <td>18.000000</td>\n      <td>-8019.000000</td>\n      <td>1.000000</td>\n      <td>0.000000</td>\n      <td>1.000000</td>\n      <td>1.000000</td>\n      <td>0.000000</td>\n    </tr>\n    <tr>\n      <th>25%</th>\n      <td>33.000000</td>\n      <td>72.000000</td>\n      <td>8.000000</td>\n      <td>103.000000</td>\n      <td>1.000000</td>\n      <td>133.000000</td>\n      <td>0.000000</td>\n    </tr>\n    <tr>\n      <th>50%</th>\n      <td>39.000000</td>\n      <td>448.000000</td>\n      <td>16.000000</td>\n      <td>180.000000</td>\n      <td>2.000000</td>\n      <td>194.000000</td>\n      <td>0.000000</td>\n    </tr>\n    <tr>\n      <th>75%</th>\n      <td>48.000000</td>\n      <td>1428.000000</td>\n      <td>21.000000</td>\n      <td>319.000000</td>\n      <td>3.000000</td>\n      <td>327.000000</td>\n      <td>0.000000</td>\n    </tr>\n    <tr>\n      <th>max</th>\n      <td>95.000000</td>\n      <td>102127.000000</td>\n      <td>31.000000</td>\n      <td>4918.000000</td>\n      <td>63.000000</td>\n      <td>871.000000</td>\n      <td>275.000000</td>\n    </tr>\n  </tbody>\n</table>\n</div>"
     },
     "execution_count": 135,
     "metadata": {},
     "output_type": "execute_result"
    }
   ],
   "source": [
    "df.describe()"
   ]
  },
  {
   "cell_type": "markdown",
   "metadata": {
    "id": "kk43uCv4cZWi"
   },
   "source": [
    "2) Plot a histogram of the 'balance' attribute and a boxplot of the 'age' attribute."
   ]
  },
  {
   "cell_type": "code",
   "execution_count": 136,
   "metadata": {
    "id": "iLtbdN0lcZWi",
    "ExecuteTime": {
     "start_time": "2023-05-03T23:44:18.495365Z",
     "end_time": "2023-05-03T23:44:19.343009Z"
    }
   },
   "outputs": [
    {
     "data": {
      "text/plain": "<Axes: >"
     },
     "execution_count": 136,
     "metadata": {},
     "output_type": "execute_result"
    },
    {
     "data": {
      "text/plain": "<Figure size 640x480 with 1 Axes>",
      "image/png": "[encoded data removed]"
     },
     "metadata": {},
     "output_type": "display_data"
    }
   ],
   "source": [
    "df['balance'].hist()"
   ]
  },
  {
   "cell_type": "code",
   "execution_count": 137,
   "outputs": [
    {
     "data": {
      "text/plain": "<Axes: >"
     },
     "execution_count": 137,
     "metadata": {},
     "output_type": "execute_result"
    },
    {
     "data": {
      "text/plain": "<Figure size 640x480 with 1 Axes>",
      "image/png": "[encoded data removed]"
     },
     "metadata": {},
     "output_type": "display_data"
    }
   ],
   "source": [
    "df.boxplot(column='age')"
   ],
   "metadata": {
    "collapsed": false,
    "ExecuteTime": {
     "start_time": "2023-05-03T23:44:18.851867Z",
     "end_time": "2023-05-03T23:44:19.343009Z"
    }
   }
  },
  {
   "cell_type": "markdown",
   "metadata": {
    "id": "sO6vQO1DcZWi"
   },
   "source": [
    "3) Plot separately the distributions of balance values for people with negative outcome and positive outcomes. Are they different? If so, how?"
   ]
  },
  {
   "cell_type": "code",
   "execution_count": 138,
   "metadata": {
    "id": "qIO1DVSOcZWi",
    "ExecuteTime": {
     "start_time": "2023-05-03T23:44:19.126938Z",
     "end_time": "2023-05-03T23:44:20.186317Z"
    }
   },
   "outputs": [
    {
     "data": {
      "text/plain": "<Axes: title={'center': 'Balances for positive outcomes'}>"
     },
     "execution_count": 138,
     "metadata": {},
     "output_type": "execute_result"
    },
    {
     "data": {
      "text/plain": "<Figure size 640x480 with 2 Axes>",
      "image/png": "[encoded data removed]"
     },
     "metadata": {},
     "output_type": "display_data"
    }
   ],
   "source": [
    "import matplotlib.pyplot as plt\n",
    "\n",
    "fig, axes = plt.subplots(nrows=1, ncols=2)\n",
    "\n",
    "axes[0].set_title(\"Balances for negative outcomes\")\n",
    "df[df[\"outcome\"] == \"no\"]['balance'].hist(ax=axes[0], grid=True, bins=[i*200 for i in range(50)])\n",
    "\n",
    "axes[1].set_title(\"Balances for positive outcomes\")\n",
    "df[df[\"outcome\"] == \"yes\"]['balance'].hist(ax=axes[1], grid=True, bins=[i*200 for i in range(50)])\n"
   ]
  },
  {
   "cell_type": "code",
   "execution_count": 139,
   "outputs": [
    {
     "name": "stdout",
     "output_type": "stream",
     "text": [
      "People with positive outcome has a balance of about 10 times more than people with negative outcome (makes sense). Other then that, the distribution between the two groups look pretty similar\n"
     ]
    }
   ],
   "source": [
    "print(\"People with positive outcome has a balance of about 10 times more than people with negative outcome (makes sense). Other then that, the distribution between the two groups look pretty similar\")"
   ],
   "metadata": {
    "collapsed": false,
    "ExecuteTime": {
     "start_time": "2023-05-03T23:44:20.193184Z",
     "end_time": "2023-05-03T23:44:20.196384Z"
    }
   }
  },
  {
   "cell_type": "markdown",
   "metadata": {
    "id": "JEOJFGXNcZWj"
   },
   "source": [
    "# Q2"
   ]
  },
  {
   "cell_type": "markdown",
   "metadata": {
    "id": "MRyujmxRcZWj"
   },
   "source": [
    "## Missing Values"
   ]
  },
  {
   "cell_type": "markdown",
   "metadata": {
    "id": "rRuqiXEecZWj"
   },
   "source": [
    "1) Which of the attributes have missing values? How many?"
   ]
  },
  {
   "cell_type": "code",
   "execution_count": 140,
   "metadata": {
    "id": "u-PfUurncZWj",
    "ExecuteTime": {
     "start_time": "2023-05-03T23:44:20.209764Z",
     "end_time": "2023-05-03T23:44:20.293017Z"
    }
   },
   "outputs": [
    {
     "data": {
      "text/plain": "days_from_last_contact    36954\ndtype: int64"
     },
     "execution_count": 140,
     "metadata": {},
     "output_type": "execute_result"
    }
   ],
   "source": [
    "null_count = df.isnull().sum()\n",
    "null_count[null_count > 0]"
   ]
  },
  {
   "cell_type": "code",
   "execution_count": 141,
   "outputs": [
    {
     "name": "stdout",
     "output_type": "stream",
     "text": [
      "If the meaning is that 'unknown' is also indicating a missing value, than:\n"
     ]
    },
    {
     "data": {
      "text/plain": "job                            288\neducation                     1857\ncontact                      13020\nprevious_campaign_outcome    36959\ndtype: int64"
     },
     "execution_count": 141,
     "metadata": {},
     "output_type": "execute_result"
    }
   ],
   "source": [
    "print(\"If the meaning is that 'unknown' is also indicating a missing value, than:\")\n",
    "unknown_count = (df == \"unknown\").sum()\n",
    "unknown_count[unknown_count > 0]"
   ],
   "metadata": {
    "collapsed": false,
    "ExecuteTime": {
     "start_time": "2023-05-03T23:44:20.241855Z",
     "end_time": "2023-05-03T23:44:20.328125Z"
    }
   }
  },
  {
   "cell_type": "markdown",
   "metadata": {
    "id": "TxRbBb6ccZWj"
   },
   "source": [
    "2) Create another dataframe, which doesn't include any people with 'contact' which is 'cellular' or 'telephone'"
   ]
  },
  {
   "cell_type": "code",
   "execution_count": 142,
   "metadata": {
    "id": "sJK848yxcZWj",
    "ExecuteTime": {
     "start_time": "2023-05-03T23:44:20.283569Z",
     "end_time": "2023-05-03T23:44:20.376505Z"
    }
   },
   "outputs": [
    {
     "data": {
      "text/plain": "       age           job   marital  education default_credit  balance   \n12657   27    management    single  secondary             no       35  \\\n12658   54   blue-collar   married    primary             no      466   \n12659   43   blue-collar   married  secondary             no      105   \n12661   27    technician    single  secondary             no      126   \n12662   28   blue-collar    single  secondary             no     -127   \n...    ...           ...       ...        ...            ...      ...   \n45205   25    technician    single  secondary             no      505   \n45206   51    technician   married   tertiary             no      825   \n45207   71       retired  divorced    primary             no     1729   \n45208   72       retired   married  secondary             no     5715   \n45210   37  entrepreneur   married  secondary             no     2971   \n\n      housing_loan personal_loan   contact  day month  duration  campaign   \n12657           no            no  cellular    4   jul       255         1  \\\n12658           no            no  cellular    4   jul       297         1   \n12659           no           yes  cellular    4   jul       668         2   \n12661          yes           yes  cellular    4   jul       436         4   \n12662          yes            no  cellular    4   jul      1044         3   \n...            ...           ...       ...  ...   ...       ...       ...   \n45205           no           yes  cellular   17   nov       386         2   \n45206           no            no  cellular   17   nov       977         3   \n45207           no            no  cellular   17   nov       456         2   \n45208           no            no  cellular   17   nov      1127         5   \n45210           no            no  cellular   17   nov       361         2   \n\n       days_from_last_contact  previous_campaign_contacts   \n12657                     NaN                           0  \\\n12658                     NaN                           0   \n12659                     NaN                           0   \n12661                     NaN                           0   \n12662                     NaN                           0   \n...                       ...                         ...   \n45205                     NaN                           0   \n45206                     NaN                           0   \n45207                     NaN                           0   \n45208                   184.0                           3   \n45210                   188.0                          11   \n\n      previous_campaign_outcome outcome  isContactKnown  \n12657                   unknown      no           False  \n12658                   unknown      no           False  \n12659                   unknown      no           False  \n12661                   unknown      no           False  \n12662                   unknown     yes           False  \n...                         ...     ...             ...  \n45205                   unknown     yes           False  \n45206                   unknown     yes           False  \n45207                   unknown     yes           False  \n45208                   success     yes           False  \n45210                     other      no           False  \n\n[29285 rows x 18 columns]",
      "text/html": "<div>\n<style scoped>\n    .dataframe tbody tr th:only-of-type {\n        vertical-align: middle;\n    }\n\n    .dataframe tbody tr th {\n        vertical-align: top;\n    }\n\n    .dataframe thead th {\n        text-align: right;\n    }\n</style>\n<table border=\"1\" class=\"dataframe\">\n  <thead>\n    <tr style=\"text-align: right;\">\n      <th></th>\n      <th>age</th>\n      <th>job</th>\n      <th>marital</th>\n      <th>education</th>\n      <th>default_credit</th>\n      <th>balance</th>\n      <th>housing_loan</th>\n      <th>personal_loan</th>\n      <th>contact</th>\n      <th>day</th>\n      <th>month</th>\n      <th>duration</th>\n      <th>campaign</th>\n      <th>days_from_last_contact</th>\n      <th>previous_campaign_contacts</th>\n      <th>previous_campaign_outcome</th>\n      <th>outcome</th>\n      <th>isContactKnown</th>\n    </tr>\n  </thead>\n  <tbody>\n    <tr>\n      <th>12657</th>\n      <td>27</td>\n      <td>management</td>\n      <td>single</td>\n      <td>secondary</td>\n      <td>no</td>\n      <td>35</td>\n      <td>no</td>\n      <td>no</td>\n      <td>cellular</td>\n      <td>4</td>\n      <td>jul</td>\n      <td>255</td>\n      <td>1</td>\n      <td>NaN</td>\n      <td>0</td>\n      <td>unknown</td>\n      <td>no</td>\n      <td>False</td>\n    </tr>\n    <tr>\n      <th>12658</th>\n      <td>54</td>\n      <td>blue-collar</td>\n      <td>married</td>\n      <td>primary</td>\n      <td>no</td>\n      <td>466</td>\n      <td>no</td>\n      <td>no</td>\n      <td>cellular</td>\n      <td>4</td>\n      <td>jul</td>\n      <td>297</td>\n      <td>1</td>\n      <td>NaN</td>\n      <td>0</td>\n      <td>unknown</td>\n      <td>no</td>\n      <td>False</td>\n    </tr>\n    <tr>\n      <th>12659</th>\n      <td>43</td>\n      <td>blue-collar</td>\n      <td>married</td>\n      <td>secondary</td>\n      <td>no</td>\n      <td>105</td>\n      <td>no</td>\n      <td>yes</td>\n      <td>cellular</td>\n      <td>4</td>\n      <td>jul</td>\n      <td>668</td>\n      <td>2</td>\n      <td>NaN</td>\n      <td>0</td>\n      <td>unknown</td>\n      <td>no</td>\n      <td>False</td>\n    </tr>\n    <tr>\n      <th>12661</th>\n      <td>27</td>\n      <td>technician</td>\n      <td>single</td>\n      <td>secondary</td>\n      <td>no</td>\n      <td>126</td>\n      <td>yes</td>\n      <td>yes</td>\n      <td>cellular</td>\n      <td>4</td>\n      <td>jul</td>\n      <td>436</td>\n      <td>4</td>\n      <td>NaN</td>\n      <td>0</td>\n      <td>unknown</td>\n      <td>no</td>\n      <td>False</td>\n    </tr>\n    <tr>\n      <th>12662</th>\n      <td>28</td>\n      <td>blue-collar</td>\n      <td>single</td>\n      <td>secondary</td>\n      <td>no</td>\n      <td>-127</td>\n      <td>yes</td>\n      <td>no</td>\n      <td>cellular</td>\n      <td>4</td>\n      <td>jul</td>\n      <td>1044</td>\n      <td>3</td>\n      <td>NaN</td>\n      <td>0</td>\n      <td>unknown</td>\n      <td>yes</td>\n      <td>False</td>\n    </tr>\n    <tr>\n      <th>...</th>\n      <td>...</td>\n      <td>...</td>\n      <td>...</td>\n      <td>...</td>\n      <td>...</td>\n      <td>...</td>\n      <td>...</td>\n      <td>...</td>\n      <td>...</td>\n      <td>...</td>\n      <td>...</td>\n      <td>...</td>\n      <td>...</td>\n      <td>...</td>\n      <td>...</td>\n      <td>...</td>\n      <td>...</td>\n      <td>...</td>\n    </tr>\n    <tr>\n      <th>45205</th>\n      <td>25</td>\n      <td>technician</td>\n      <td>single</td>\n      <td>secondary</td>\n      <td>no</td>\n      <td>505</td>\n      <td>no</td>\n      <td>yes</td>\n      <td>cellular</td>\n      <td>17</td>\n      <td>nov</td>\n      <td>386</td>\n      <td>2</td>\n      <td>NaN</td>\n      <td>0</td>\n      <td>unknown</td>\n      <td>yes</td>\n      <td>False</td>\n    </tr>\n    <tr>\n      <th>45206</th>\n      <td>51</td>\n      <td>technician</td>\n      <td>married</td>\n      <td>tertiary</td>\n      <td>no</td>\n      <td>825</td>\n      <td>no</td>\n      <td>no</td>\n      <td>cellular</td>\n      <td>17</td>\n      <td>nov</td>\n      <td>977</td>\n      <td>3</td>\n      <td>NaN</td>\n      <td>0</td>\n      <td>unknown</td>\n      <td>yes</td>\n      <td>False</td>\n    </tr>\n    <tr>\n      <th>45207</th>\n      <td>71</td>\n      <td>retired</td>\n      <td>divorced</td>\n      <td>primary</td>\n      <td>no</td>\n      <td>1729</td>\n      <td>no</td>\n      <td>no</td>\n      <td>cellular</td>\n      <td>17</td>\n      <td>nov</td>\n      <td>456</td>\n      <td>2</td>\n      <td>NaN</td>\n      <td>0</td>\n      <td>unknown</td>\n      <td>yes</td>\n      <td>False</td>\n    </tr>\n    <tr>\n      <th>45208</th>\n      <td>72</td>\n      <td>retired</td>\n      <td>married</td>\n      <td>secondary</td>\n      <td>no</td>\n      <td>5715</td>\n      <td>no</td>\n      <td>no</td>\n      <td>cellular</td>\n      <td>17</td>\n      <td>nov</td>\n      <td>1127</td>\n      <td>5</td>\n      <td>184.0</td>\n      <td>3</td>\n      <td>success</td>\n      <td>yes</td>\n      <td>False</td>\n    </tr>\n    <tr>\n      <th>45210</th>\n      <td>37</td>\n      <td>entrepreneur</td>\n      <td>married</td>\n      <td>secondary</td>\n      <td>no</td>\n      <td>2971</td>\n      <td>no</td>\n      <td>no</td>\n      <td>cellular</td>\n      <td>17</td>\n      <td>nov</td>\n      <td>361</td>\n      <td>2</td>\n      <td>188.0</td>\n      <td>11</td>\n      <td>other</td>\n      <td>no</td>\n      <td>False</td>\n    </tr>\n  </tbody>\n</table>\n<p>29285 rows × 18 columns</p>\n</div>"
     },
     "execution_count": 142,
     "metadata": {},
     "output_type": "execute_result"
    }
   ],
   "source": [
    "new_df = df[(df[\"contact\"] == 'cellular') | (df[\"contact\"] == 'cellular')]\n",
    "new_df"
   ]
  },
  {
   "cell_type": "markdown",
   "metadata": {
    "id": "4mgZW46jcZWj"
   },
   "source": [
    "3) Look at the missing values in the 'days_from_last_contact' attribute. What do you think these missing values might represent? Can you find support in the table for your assumption? Hint: The attribute names have a meaning."
   ]
  },
  {
   "cell_type": "code",
   "execution_count": 143,
   "metadata": {
    "id": "V0OvzrCIcZWj",
    "ExecuteTime": {
     "start_time": "2023-05-03T23:44:20.349902Z",
     "end_time": "2023-05-03T23:44:20.376505Z"
    }
   },
   "outputs": [
    {
     "data": {
      "text/plain": "0"
     },
     "execution_count": 143,
     "metadata": {},
     "output_type": "execute_result"
    }
   ],
   "source": [
    "df[df['days_from_last_contact'].isnull()]['previous_campaign_contacts'].max()"
   ]
  },
  {
   "cell_type": "code",
   "execution_count": 144,
   "outputs": [
    {
     "data": {
      "text/plain": "1"
     },
     "execution_count": 144,
     "metadata": {},
     "output_type": "execute_result"
    }
   ],
   "source": [
    "df[df['days_from_last_contact'].notnull()]['previous_campaign_contacts'].min()"
   ],
   "metadata": {
    "collapsed": false,
    "ExecuteTime": {
     "start_time": "2023-05-03T23:44:20.367075Z",
     "end_time": "2023-05-03T23:44:20.393000Z"
    }
   }
  },
  {
   "cell_type": "code",
   "execution_count": 145,
   "outputs": [
    {
     "name": "stdout",
     "output_type": "stream",
     "text": [
      "As we can see, the missing values represent clients that did not have a previous campaign contact. We can see that if a client did have at least 1, the valueis not null\n"
     ]
    }
   ],
   "source": [
    "print(\"As we can see, the missing values represent clients that did not have a previous campaign contact. We can see that if a client did have at least 1, the value\"\n",
    "      \"is not null\")"
   ],
   "metadata": {
    "collapsed": false,
    "ExecuteTime": {
     "start_time": "2023-05-03T23:44:20.382437Z",
     "end_time": "2023-05-03T23:44:20.393000Z"
    }
   }
  },
  {
   "cell_type": "markdown",
   "metadata": {
    "id": "xucYbbpocZWj"
   },
   "source": [
    "## Discretization"
   ]
  },
  {
   "cell_type": "markdown",
   "metadata": {
    "id": "GiK1I0dmcZWj"
   },
   "source": [
    "In class, you've seen three methods of data discretization, and we will focus on two of them - Equal-width (distance) and Equal-depth (frequency).\n",
    "\n",
    "1) Discretize the balance attribute to 7 intervals using equal-width discretization, and plot the frequency table for them."
   ]
  },
  {
   "cell_type": "code",
   "execution_count": 146,
   "metadata": {
    "id": "MJNtsHlFcZWk",
    "ExecuteTime": {
     "start_time": "2023-05-03T23:44:20.393000Z",
     "end_time": "2023-05-03T23:44:20.526216Z"
    }
   },
   "outputs": [
    {
     "data": {
      "text/plain": "balance\n(-8129.147, 7716.143]     43836\n(7716.143, 23451.286]      1254\n(23451.286, 39186.429]       92\n(39186.429, 54921.571]       16\n(54921.571, 70656.714]        8\n(70656.714, 86391.857]        3\n(86391.857, 102127.0]         2\nName: count, dtype: int64"
     },
     "execution_count": 146,
     "metadata": {},
     "output_type": "execute_result"
    }
   ],
   "source": [
    "df['balance'].value_counts(bins=7)"
   ]
  },
  {
   "cell_type": "code",
   "execution_count": 147,
   "outputs": [
    {
     "data": {
      "text/plain": "<Axes: xlabel='balance'>"
     },
     "execution_count": 147,
     "metadata": {},
     "output_type": "execute_result"
    },
    {
     "data": {
      "text/plain": "<Figure size 640x480 with 1 Axes>",
      "image/png": "[encoded data removed]"
     },
     "metadata": {},
     "output_type": "display_data"
    }
   ],
   "source": [
    "df['balance'].value_counts(bins=7).plot(kind='bar')"
   ],
   "metadata": {
    "collapsed": false,
    "ExecuteTime": {
     "start_time": "2023-05-03T23:44:20.415649Z",
     "end_time": "2023-05-03T23:44:20.795077Z"
    }
   }
  },
  {
   "cell_type": "markdown",
   "metadata": {
    "id": "A32iFQuycZWk"
   },
   "source": [
    "2) Discretize the age attribute into 6 intervals using equal-depth discretization, and plot the frequency table for them."
   ]
  },
  {
   "cell_type": "code",
   "execution_count": 148,
   "metadata": {
    "id": "AIUo1-3kcZWk",
    "ExecuteTime": {
     "start_time": "2023-05-03T23:44:20.795077Z",
     "end_time": "2023-05-03T23:44:20.822589Z"
    }
   },
   "outputs": [
    {
     "data": {
      "text/plain": "age\n(17.999, 31.0]    9026\n(31.0, 35.0]      7881\n(35.0, 39.0]      6455\n(39.0, 45.0]      7401\n(45.0, 52.0]      7040\n(52.0, 95.0]      7408\nName: count, dtype: int64"
     },
     "execution_count": 148,
     "metadata": {},
     "output_type": "execute_result"
    }
   ],
   "source": [
    "pd.qcut(df['age'], 6).value_counts(sort=False)"
   ]
  },
  {
   "cell_type": "code",
   "execution_count": 149,
   "outputs": [
    {
     "data": {
      "text/plain": "<Axes: xlabel='age'>"
     },
     "execution_count": 149,
     "metadata": {},
     "output_type": "execute_result"
    },
    {
     "data": {
      "text/plain": "<Figure size 640x480 with 1 Axes>",
      "image/png": "[encoded data removed]"
     },
     "metadata": {},
     "output_type": "display_data"
    }
   ],
   "source": [
    "pd.qcut(df['age'], 6).value_counts(sort=False).plot(kind='bar')"
   ],
   "metadata": {
    "collapsed": false,
    "ExecuteTime": {
     "start_time": "2023-05-03T23:44:20.828510Z",
     "end_time": "2023-05-03T23:44:21.243701Z"
    }
   }
  },
  {
   "cell_type": "markdown",
   "metadata": {
    "id": "xUVGSSW7cZWk"
   },
   "source": [
    "3) Propose a way to further discretize the Month column."
   ]
  },
  {
   "cell_type": "code",
   "execution_count": 150,
   "outputs": [
    {
     "name": "stdout",
     "output_type": "stream",
     "text": [
      "We can discretize the record by seasons, meaning we'll group together each 3 consecutive month together:\n"
     ]
    }
   ],
   "source": [
    "print(\"We can discretize the record by seasons, meaning we'll group together each 3 consecutive month together:\")\n",
    "# TODO - actually write code for that"
   ],
   "metadata": {
    "collapsed": false,
    "ExecuteTime": {
     "start_time": "2023-05-03T23:44:21.244738Z",
     "end_time": "2023-05-03T23:44:21.250722Z"
    }
   }
  },
  {
   "cell_type": "markdown",
   "metadata": {
    "id": "ZuESpGbHcZWk"
   },
   "source": []
  },
  {
   "cell_type": "markdown",
   "metadata": {
    "id": "IGNbINlscZWk"
   },
   "source": [
    "# Q3"
   ]
  },
  {
   "cell_type": "markdown",
   "metadata": {
    "id": "Uu3RPlMhcZWk"
   },
   "source": [
    "## Correlation"
   ]
  },
  {
   "cell_type": "markdown",
   "metadata": {
    "id": "VAJvQLgJcZWk"
   },
   "source": [
    "1) Calculate the pearson and spearman correlation between age and balance."
   ]
  },
  {
   "cell_type": "code",
   "execution_count": 151,
   "metadata": {
    "id": "QyW5dBxUcZWk",
    "ExecuteTime": {
     "start_time": "2023-05-03T23:44:21.250722Z",
     "end_time": "2023-05-03T23:44:21.691911Z"
    }
   },
   "outputs": [
    {
     "name": "stdout",
     "output_type": "stream",
     "text": [
      "\n",
      "Pearson correlation for age-balance:\n"
     ]
    },
    {
     "data": {
      "text/plain": "              age   balance\nage      1.000000  0.097783\nbalance  0.097783  1.000000",
      "text/html": "<div>\n<style scoped>\n    .dataframe tbody tr th:only-of-type {\n        vertical-align: middle;\n    }\n\n    .dataframe tbody tr th {\n        vertical-align: top;\n    }\n\n    .dataframe thead th {\n        text-align: right;\n    }\n</style>\n<table border=\"1\" class=\"dataframe\">\n  <thead>\n    <tr style=\"text-align: right;\">\n      <th></th>\n      <th>age</th>\n      <th>balance</th>\n    </tr>\n  </thead>\n  <tbody>\n    <tr>\n      <th>age</th>\n      <td>1.000000</td>\n      <td>0.097783</td>\n    </tr>\n    <tr>\n      <th>balance</th>\n      <td>0.097783</td>\n      <td>1.000000</td>\n    </tr>\n  </tbody>\n</table>\n</div>"
     },
     "execution_count": 151,
     "metadata": {},
     "output_type": "execute_result"
    }
   ],
   "source": [
    "print(\"\\nPearson correlation for age-balance:\")\n",
    "df[[\"age\", \"balance\"]].corr(method = 'pearson')"
   ]
  },
  {
   "cell_type": "code",
   "execution_count": 152,
   "outputs": [
    {
     "name": "stdout",
     "output_type": "stream",
     "text": [
      "\n",
      "Spearman correlation for age-balance:\n"
     ]
    },
    {
     "data": {
      "text/plain": "             age  balance\nage      1.00000  0.09638\nbalance  0.09638  1.00000",
      "text/html": "<div>\n<style scoped>\n    .dataframe tbody tr th:only-of-type {\n        vertical-align: middle;\n    }\n\n    .dataframe tbody tr th {\n        vertical-align: top;\n    }\n\n    .dataframe thead th {\n        text-align: right;\n    }\n</style>\n<table border=\"1\" class=\"dataframe\">\n  <thead>\n    <tr style=\"text-align: right;\">\n      <th></th>\n      <th>age</th>\n      <th>balance</th>\n    </tr>\n  </thead>\n  <tbody>\n    <tr>\n      <th>age</th>\n      <td>1.00000</td>\n      <td>0.09638</td>\n    </tr>\n    <tr>\n      <th>balance</th>\n      <td>0.09638</td>\n      <td>1.00000</td>\n    </tr>\n  </tbody>\n</table>\n</div>"
     },
     "execution_count": 152,
     "metadata": {},
     "output_type": "execute_result"
    }
   ],
   "source": [
    "print(\"\\nSpearman correlation for age-balance:\")\n",
    "df[[\"age\", \"balance\"]].corr(method = 'spearman')"
   ],
   "metadata": {
    "collapsed": false,
    "ExecuteTime": {
     "start_time": "2023-05-03T23:44:21.281261Z",
     "end_time": "2023-05-03T23:44:21.708641Z"
    }
   }
  },
  {
   "cell_type": "markdown",
   "metadata": {
    "id": "iy1WiW6YcZWk"
   },
   "source": [
    "2) Calculate the full pearson correlation matrix for all the numeric columns in the data."
   ]
  },
  {
   "cell_type": "code",
   "execution_count": 153,
   "metadata": {
    "id": "CcXMnlpjcZWl",
    "ExecuteTime": {
     "start_time": "2023-05-03T23:44:21.316799Z",
     "end_time": "2023-05-03T23:44:21.743950Z"
    }
   },
   "outputs": [
    {
     "data": {
      "text/plain": "                                 age   balance       day  duration  campaign   \nage                         1.000000  0.097783 -0.009120 -0.004648  0.004760  \\\nbalance                     0.097783  1.000000  0.004503  0.021560 -0.014578   \nday                        -0.009120  0.004503  1.000000 -0.030206  0.162490   \nduration                   -0.004648  0.021560 -0.030206  1.000000 -0.084570   \ncampaign                    0.004760 -0.014578  0.162490 -0.084570  1.000000   \ndays_from_last_contact     -0.107863 -0.108122 -0.090095 -0.024407  0.050534   \nprevious_campaign_contacts  0.001288  0.016674 -0.051710  0.001203 -0.032855   \nisContactKnown             -0.020132 -0.037331 -0.034103 -0.014379  0.004853   \n\n                            days_from_last_contact   \nage                                      -0.107863  \\\nbalance                                  -0.108122   \nday                                      -0.090095   \nduration                                 -0.024407   \ncampaign                                  0.050534   \ndays_from_last_contact                    1.000000   \nprevious_campaign_contacts               -0.021885   \nisContactKnown                            0.162032   \n\n                            previous_campaign_contacts  isContactKnown  \nage                                           0.001288       -0.020132  \nbalance                                       0.016674       -0.037331  \nday                                          -0.051710       -0.034103  \nduration                                      0.001203       -0.014379  \ncampaign                                     -0.032855        0.004853  \ndays_from_last_contact                       -0.021885        0.162032  \nprevious_campaign_contacts                    1.000000       -0.154162  \nisContactKnown                               -0.154162        1.000000  ",
      "text/html": "<div>\n<style scoped>\n    .dataframe tbody tr th:only-of-type {\n        vertical-align: middle;\n    }\n\n    .dataframe tbody tr th {\n        vertical-align: top;\n    }\n\n    .dataframe thead th {\n        text-align: right;\n    }\n</style>\n<table border=\"1\" class=\"dataframe\">\n  <thead>\n    <tr style=\"text-align: right;\">\n      <th></th>\n      <th>age</th>\n      <th>balance</th>\n      <th>day</th>\n      <th>duration</th>\n      <th>campaign</th>\n      <th>days_from_last_contact</th>\n      <th>previous_campaign_contacts</th>\n      <th>isContactKnown</th>\n    </tr>\n  </thead>\n  <tbody>\n    <tr>\n      <th>age</th>\n      <td>1.000000</td>\n      <td>0.097783</td>\n      <td>-0.009120</td>\n      <td>-0.004648</td>\n      <td>0.004760</td>\n      <td>-0.107863</td>\n      <td>0.001288</td>\n      <td>-0.020132</td>\n    </tr>\n    <tr>\n      <th>balance</th>\n      <td>0.097783</td>\n      <td>1.000000</td>\n      <td>0.004503</td>\n      <td>0.021560</td>\n      <td>-0.014578</td>\n      <td>-0.108122</td>\n      <td>0.016674</td>\n      <td>-0.037331</td>\n    </tr>\n    <tr>\n      <th>day</th>\n      <td>-0.009120</td>\n      <td>0.004503</td>\n      <td>1.000000</td>\n      <td>-0.030206</td>\n      <td>0.162490</td>\n      <td>-0.090095</td>\n      <td>-0.051710</td>\n      <td>-0.034103</td>\n    </tr>\n    <tr>\n      <th>duration</th>\n      <td>-0.004648</td>\n      <td>0.021560</td>\n      <td>-0.030206</td>\n      <td>1.000000</td>\n      <td>-0.084570</td>\n      <td>-0.024407</td>\n      <td>0.001203</td>\n      <td>-0.014379</td>\n    </tr>\n    <tr>\n      <th>campaign</th>\n      <td>0.004760</td>\n      <td>-0.014578</td>\n      <td>0.162490</td>\n      <td>-0.084570</td>\n      <td>1.000000</td>\n      <td>0.050534</td>\n      <td>-0.032855</td>\n      <td>0.004853</td>\n    </tr>\n    <tr>\n      <th>days_from_last_contact</th>\n      <td>-0.107863</td>\n      <td>-0.108122</td>\n      <td>-0.090095</td>\n      <td>-0.024407</td>\n      <td>0.050534</td>\n      <td>1.000000</td>\n      <td>-0.021885</td>\n      <td>0.162032</td>\n    </tr>\n    <tr>\n      <th>previous_campaign_contacts</th>\n      <td>0.001288</td>\n      <td>0.016674</td>\n      <td>-0.051710</td>\n      <td>0.001203</td>\n      <td>-0.032855</td>\n      <td>-0.021885</td>\n      <td>1.000000</td>\n      <td>-0.154162</td>\n    </tr>\n    <tr>\n      <th>isContactKnown</th>\n      <td>-0.020132</td>\n      <td>-0.037331</td>\n      <td>-0.034103</td>\n      <td>-0.014379</td>\n      <td>0.004853</td>\n      <td>0.162032</td>\n      <td>-0.154162</td>\n      <td>1.000000</td>\n    </tr>\n  </tbody>\n</table>\n</div>"
     },
     "execution_count": 153,
     "metadata": {},
     "output_type": "execute_result"
    }
   ],
   "source": [
    "df.corr(method='pearson', numeric_only=True)"
   ]
  },
  {
   "cell_type": "markdown",
   "metadata": {
    "id": "6xEIx4eFcZWl"
   },
   "source": [
    "## Mutual Information"
   ]
  },
  {
   "cell_type": "markdown",
   "metadata": {
    "id": "G2BJKABrcZWl"
   },
   "source": [
    "Calcalate the entropy of each of the attributes in the data. Which has the biggest entropy?"
   ]
  },
  {
   "cell_type": "code",
   "execution_count": 154,
   "metadata": {
    "id": "ceSQak0NcZWl",
    "scrolled": true,
    "ExecuteTime": {
     "start_time": "2023-05-03T23:44:21.598767Z",
     "end_time": "2023-05-03T23:44:21.743950Z"
    }
   },
   "outputs": [
    {
     "name": "stdout",
     "output_type": "stream",
     "text": [
      "Entropy of age: 5.319965381108414\n",
      "Entropy of job: 3.055352981989424\n",
      "Entropy of marital: 1.3152704429934163\n",
      "Entropy of education: 1.6149019975434802\n",
      "Entropy of default_credit: 0.13021221197171914\n",
      "Entropy of balance: 11.23729520562423\n",
      "Entropy of housing_loan: 0.9909848414082716\n",
      "Entropy of personal_loan: 0.6348511238851708\n",
      "Entropy of contact: 1.1775253842799875\n",
      "Entropy of day: 4.838726650233828\n",
      "Entropy of month: 2.937380670052729\n",
      "Entropy of duration: 9.313764218181575\n",
      "Entropy of campaign: 2.5433971519356153\n",
      "Entropy of days_from_last_contact: 8.185525133062725\n",
      "Entropy of previous_campaign_contacts: 1.1954128174159335\n",
      "Entropy of previous_campaign_outcome: 0.9370151397592826\n",
      "Entropy of outcome: 0.5206312212538164\n",
      "Entropy of isContactKnown: 0.866101498594268\n",
      "Feature with max entropy is balance with 11.23729520562423\n"
     ]
    }
   ],
   "source": [
    "from scipy.stats import entropy\n",
    "\n",
    "# calculate entropy for each column\n",
    "max_entropy = -1\n",
    "max_entropy_feature = None\n",
    "for col in df.columns:\n",
    "    ent = entropy(df[col].value_counts(normalize=True), base=2)\n",
    "    print(f'Entropy of {col}: {ent}')\n",
    "    if ent > max_entropy:\n",
    "          max_entropy = ent\n",
    "          max_entropy_feature = col\n",
    "\n",
    "print(f\"Feature with max entropy is {max_entropy_feature} with {max_entropy}\")"
   ]
  },
  {
   "cell_type": "markdown",
   "metadata": {
    "id": "BLY4FT_0cZWl"
   },
   "source": [
    "Which attribute has the highest Mutual Information with the 'outcome' attribute?"
   ]
  },
  {
   "cell_type": "code",
   "execution_count": 155,
   "metadata": {
    "id": "K4fmesoZcZWl",
    "scrolled": true,
    "ExecuteTime": {
     "start_time": "2023-05-03T23:44:21.598767Z",
     "end_time": "2023-05-03T23:44:23.158798Z"
    }
   },
   "outputs": [
    {
     "name": "stdout",
     "output_type": "stream",
     "text": [
      "The attribute which has the highest Mutual Information with the 'outcome' is 'balance'\n"
     ]
    }
   ],
   "source": [
    "from sklearn.metrics import mutual_info_score\n",
    "\n",
    "mutual_info_scores = df.dropna(axis=1).drop('outcome', axis=1).apply(lambda attribute: mutual_info_score(attribute, df['outcome']))\n",
    "print(f\"The attribute which has the highest Mutual Information with the 'outcome' is '{mutual_info_scores.idxmax()}'\")\n",
    "\n"
   ]
  },
  {
   "cell_type": "markdown",
   "metadata": {
    "id": "dirW5mZScZWl"
   },
   "source": [
    "# Q4"
   ]
  },
  {
   "cell_type": "markdown",
   "metadata": {
    "id": "xEEvZl8GcZWm"
   },
   "source": [
    "## Outliers"
   ]
  },
  {
   "cell_type": "markdown",
   "metadata": {
    "id": "74SBpsxqcZWm"
   },
   "source": [
    "Does the campaign column in the table have any outliers? Support your claim with a relevant plot."
   ]
  },
  {
   "cell_type": "code",
   "execution_count": 156,
   "metadata": {
    "id": "mtuN3HysA79H",
    "ExecuteTime": {
     "start_time": "2023-05-03T23:44:23.143256Z",
     "end_time": "2023-05-03T23:44:23.445021Z"
    }
   },
   "outputs": [
    {
     "name": "stdout",
     "output_type": "stream",
     "text": [
      "We can see many extreme outliers in the campaign column (the dots on the right of the right whisker):\n"
     ]
    },
    {
     "data": {
      "text/plain": "<Axes: >"
     },
     "execution_count": 156,
     "metadata": {},
     "output_type": "execute_result"
    },
    {
     "data": {
      "text/plain": "<Figure size 640x480 with 1 Axes>",
      "image/png": "[encoded data removed]"
     },
     "metadata": {},
     "output_type": "display_data"
    }
   ],
   "source": [
    "print (\"We can see many extreme outliers in the campaign column (the dots on the right of the right whisker):\")\n",
    "df.boxplot(column=\"campaign\", vert=False)"
   ]
  },
  {
   "cell_type": "code",
   "execution_count": 157,
   "outputs": [
    {
     "name": "stdout",
     "output_type": "stream",
     "text": [
      "We can see from the plot that there some number of potential outliers points. We can see from the graph that the density is large around the mean, so we expect that most of the points will be roughly around 3*std+mean.\n",
      "We see that there are 840 points larger then that, which makes them outliers to us\n"
     ]
    }
   ],
   "source": [
    "print(\"We can see from the plot that there some number of potential outliers points. We can see from the graph that the density is large around the mean, so we expect that most of the points will be roughly around 3*std+mean.\")\n",
    "df['campaign'] = df['campaign'].astype('int')\n",
    "mean = df['campaign'].mean()\n",
    "std = df['campaign'].std()\n",
    "outliers_count = len(df[df['campaign']>3*std + mean])\n",
    "print(f\"We see that there are {outliers_count} points larger then that, which makes them outliers to us\")"
   ],
   "metadata": {
    "collapsed": false,
    "ExecuteTime": {
     "start_time": "2023-05-03T23:44:23.445021Z",
     "end_time": "2023-05-03T23:44:23.459938Z"
    }
   }
  },
  {
   "cell_type": "markdown",
   "metadata": {
    "id": "BGsRCaDAcZWm"
   },
   "source": [
    "## Normalization - Bonus"
   ]
  },
  {
   "cell_type": "markdown",
   "metadata": {
    "id": "bIQucI6WcZWm"
   },
   "source": [
    "Think of an appropriate normalization method and normalize the days_from_last_contact column in the table. Why did you choose this method?"
   ]
  },
  {
   "cell_type": "code",
   "execution_count": 158,
   "metadata": {
    "collapsed": true,
    "id": "c4RGlu_PcZWm",
    "ExecuteTime": {
     "start_time": "2023-05-03T23:44:23.459938Z",
     "end_time": "2023-05-03T23:44:23.943086Z"
    }
   },
   "outputs": [
    {
     "data": {
      "text/plain": "Text(0.5, 1.0, 'days_from_last_contact histogram')"
     },
     "execution_count": 158,
     "metadata": {},
     "output_type": "execute_result"
    },
    {
     "data": {
      "text/plain": "<Figure size 640x480 with 1 Axes>",
      "image/png": "[encoded data removed]"
     },
     "metadata": {},
     "output_type": "display_data"
    }
   ],
   "source": [
    "df[\"days_from_last_contact\"].hist(bins=50).set_title(\"days_from_last_contact histogram\")"
   ]
  },
  {
   "cell_type": "code",
   "execution_count": 159,
   "outputs": [
    {
     "name": "stdout",
     "output_type": "stream",
     "text": [
      "from this plot we can assume that the distribution is approximately composed from 3 normal distribution therefore its good choise to choose Z normalization. But before that we will use log normalization because its a right-skewed distribution:\n"
     ]
    },
    {
     "data": {
      "text/plain": "<Figure size 640x480 with 1 Axes>",
      "image/png": "[encoded data removed]"
     },
     "metadata": {},
     "output_type": "display_data"
    },
    {
     "data": {
      "text/plain": "<Figure size 640x480 with 1 Axes>",
      "image/png": "[encoded data removed]"
     },
     "metadata": {},
     "output_type": "display_data"
    }
   ],
   "source": [
    "import numpy as np\n",
    "\n",
    "print(\"from this plot we can assume that the distribution is approximately composed from 3 normal distribution therefore its good choise to choose Z normalization. But before that we will use log normalization because its a right-skewed distribution:\")\n",
    "\n",
    "log_col = np.log2(df[\"days_from_last_contact\"])\n",
    "log_col.hist(bins=50).set_title(\"Log normalizaition on days_from_last_contact\")\n",
    "plt.show()\n",
    "\n",
    "mean = np.mean(log_col)\n",
    "std = np.std(log_col)\n",
    "log_z = (log_col - mean)/std\n",
    "log_z.hist(bins=50).set_title(\"Normalized log days_from_last_contact\")\n",
    "plt.show()"
   ],
   "metadata": {
    "collapsed": false,
    "ExecuteTime": {
     "start_time": "2023-05-03T23:44:23.943086Z",
     "end_time": "2023-05-03T23:44:25.316217Z"
    }
   }
  }
 ],
 "metadata": {
  "anaconda-cloud": {},
  "colab": {
   "provenance": []
  },
  "kernelspec": {
   "display_name": "Python 3",
   "language": "python",
   "name": "python3"
  },
  "language_info": {
   "codemirror_mode": {
    "name": "ipython",
    "version": 3
   },
   "file_extension": ".py",
   "mimetype": "text/x-python",
   "name": "python",
   "nbconvert_exporter": "python",
   "pygments_lexer": "ipython3",
   "version": "3.8.0"
  }
 },
 "nbformat": 4,
 "nbformat_minor": 1
}
