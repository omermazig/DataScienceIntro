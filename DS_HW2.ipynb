{
 "cells": [
  {
   "cell_type": "markdown",
   "metadata": {},
   "source": [
    "Since the HW grading is done in a semi-automatic manner, please adhere to the following naming format for your submission.\n",
    "Each group of students (mostly pairs, with some approved exceptions) should submit a Jupyter notebook (.ipynb file and not a .zip file) whose name is the underscored-separated id list of all the submitters. \n",
    "For example, for two submitters, the naming format is: id1_id2.ipynb."
   ]
  },
  {
   "cell_type": "markdown",
   "metadata": {},
   "source": [
    "# Question 1"
   ]
  },
  {
   "cell_type": "markdown",
   "metadata": {},
   "source": [
    "a) Download the \"Boston1.csv\" database, and explore the data. Explanation about the dataset can be found here: http://www.clemson.edu/economics/faculty/wilson/R-tutorial/analyzing_data.html\n",
    "\n",
    "Find the columns with missing values and filter them out of the data."
   ]
  },
  {
   "cell_type": "code",
   "execution_count": 22,
   "metadata": {
    "collapsed": true,
    "jupyter": {
     "outputs_hidden": true
    },
    "ExecuteTime": {
     "end_time": "2023-06-01T14:00:02.444574Z",
     "start_time": "2023-06-01T14:00:02.215974500Z"
    }
   },
   "outputs": [
    {
     "name": "stdout",
     "output_type": "stream",
     "text": [
      "Columns with nulls are: ['misData']. Dropping those columns...\n"
     ]
    }
   ],
   "source": [
    "import pandas as pd\n",
    "\n",
    "df = pd.read_csv(\"boston1.csv\")\n",
    "\n",
    "null_columns = df.columns[df.isnull().sum() > 0].tolist()\n",
    "print(f\"Columns with nulls are: {null_columns}. Dropping those columns...\")\n",
    "df = df.drop(columns=null_columns, axis=1)"
   ]
  },
  {
   "cell_type": "markdown",
   "metadata": {},
   "source": [
    "b) Divide the filtered data randomly into a train set (70% of the data) and test set (30% of the data)."
   ]
  },
  {
   "cell_type": "code",
   "execution_count": 23,
   "metadata": {
    "collapsed": true,
    "jupyter": {
     "outputs_hidden": true
    },
    "ExecuteTime": {
     "end_time": "2023-06-01T14:00:02.670330900Z",
     "start_time": "2023-06-01T14:00:02.238769300Z"
    }
   },
   "outputs": [],
   "source": [
    "from sklearn.model_selection import train_test_split\n",
    "\n",
    "train_data, test_data = train_test_split(df, test_size=0.3)"
   ]
  },
  {
   "cell_type": "markdown",
   "metadata": {},
   "source": [
    "# Question 2"
   ]
  },
  {
   "cell_type": "markdown",
   "metadata": {},
   "source": [
    "If you haven't done this previously, install the scikit-learn package for python.\n",
    "\n",
    "a) On the train set, run a linear regression model as follows:\n",
    "Divide the training set into explanatory variables (the X matrix with which we'll try to make a prediction) and a target variable (y, the value which we'll try to predict). Use the 'medv' attribute as the target variable y and the rest of the features as the X matrix. Run a linear regression model on those sets, and print the regression coefficients."
   ]
  },
  {
   "cell_type": "code",
   "execution_count": 24,
   "outputs": [
    {
     "name": "stdout",
     "output_type": "stream",
     "text": [
      "    Feature  Coefficient\n",
      "0      crim    -0.078811\n",
      "1        zn     0.036640\n",
      "2     indus     0.018928\n",
      "3      chas     2.945335\n",
      "4       nox   -15.058001\n",
      "5        rm     4.708187\n",
      "6       age    -0.016677\n",
      "7       dis    -1.384853\n",
      "8       rad     0.242605\n",
      "9       tax    -0.009831\n",
      "10  ptratio    -0.921733\n",
      "11    black     0.010887\n",
      "12    lstat    -0.433003\n",
      "13  randCol     0.952398\n"
     ]
    }
   ],
   "source": [
    "from sklearn.linear_model import LinearRegression\n",
    "\n",
    "X_train = train_data.drop('medv', axis=1)\n",
    "y_train = train_data['medv']\n",
    "\n",
    "# Create and run the LinearRegression model\n",
    "regression_model = LinearRegression()\n",
    "regression_model.fit(X_train, y_train)\n",
    "\n",
    "# Print the regression coefficients\n",
    "regression_coefficients = pd.DataFrame({'Feature': X_train.columns, 'Coefficient': regression_model.coef_})\n",
    "print(regression_coefficients)"
   ],
   "metadata": {
    "collapsed": false,
    "ExecuteTime": {
     "end_time": "2023-06-01T14:00:02.699407Z",
     "start_time": "2023-06-01T14:00:02.273603100Z"
    }
   }
  },
  {
   "cell_type": "markdown",
   "metadata": {},
   "source": [
    "b) Use the linear regression model to predict the values of the test set's 'medv' column, based on the test set's other attributes. Print the Mean Squared Error of the model on the train set and on the test set.\n",
    "Usually, the MSE on the train set would be lower than the MSE on the test set, since the model parameters are optimized with respect to the train set. Must this always be the case? Can you think of a few examples for when this might not be the case?"
   ]
  },
  {
   "cell_type": "code",
   "execution_count": 25,
   "metadata": {
    "collapsed": true,
    "jupyter": {
     "outputs_hidden": true
    },
    "ExecuteTime": {
     "end_time": "2023-06-01T14:00:02.704404100Z",
     "start_time": "2023-06-01T14:00:02.294336700Z"
    }
   },
   "outputs": [
    {
     "data": {
      "text/plain": "         Set        MSE\n0  train_set  20.519814\n1   test_set  26.317532",
      "text/html": "<div>\n<style scoped>\n    .dataframe tbody tr th:only-of-type {\n        vertical-align: middle;\n    }\n\n    .dataframe tbody tr th {\n        vertical-align: top;\n    }\n\n    .dataframe thead th {\n        text-align: right;\n    }\n</style>\n<table border=\"1\" class=\"dataframe\">\n  <thead>\n    <tr style=\"text-align: right;\">\n      <th></th>\n      <th>Set</th>\n      <th>MSE</th>\n    </tr>\n  </thead>\n  <tbody>\n    <tr>\n      <th>0</th>\n      <td>train_set</td>\n      <td>20.519814</td>\n    </tr>\n    <tr>\n      <th>1</th>\n      <td>test_set</td>\n      <td>26.317532</td>\n    </tr>\n  </tbody>\n</table>\n</div>"
     },
     "execution_count": 25,
     "metadata": {},
     "output_type": "execute_result"
    }
   ],
   "source": [
    "from sklearn.metrics import mean_squared_error\n",
    "\n",
    "y_hat_train = regression_model.predict(X_train)\n",
    "train_MSE = mean_squared_error(y_train, y_hat_train)\n",
    "\n",
    "X_test = test_data.drop('medv', axis=1)\n",
    "y_test = test_data['medv']\n",
    "y_hat_test = regression_model.predict(X_test)\n",
    "test_MSE = mean_squared_error(y_test, y_hat_test)\n",
    "pd.DataFrame({'Set': ['train_set', 'test_set'], 'MSE': [train_MSE, test_MSE]})"
   ]
  },
  {
   "cell_type": "code",
   "execution_count": 26,
   "outputs": [
    {
     "name": "stdout",
     "output_type": "stream",
     "text": [
      "It is possible that the train dataset's MSE is higher than the test dataset's MSE, since it's possible that the train data isn't realizable by linear regression - so it's not 0 - and by a chance, the test data only contains entries that fit exactly on the linear regression line. For example, see the code + outcome below:\n"
     ]
    },
    {
     "data": {
      "text/plain": "         Set           MSE\n0  train_set  2.000000e+00\n1   test_set  1.720373e-28",
      "text/html": "<div>\n<style scoped>\n    .dataframe tbody tr th:only-of-type {\n        vertical-align: middle;\n    }\n\n    .dataframe tbody tr th {\n        vertical-align: top;\n    }\n\n    .dataframe thead th {\n        text-align: right;\n    }\n</style>\n<table border=\"1\" class=\"dataframe\">\n  <thead>\n    <tr style=\"text-align: right;\">\n      <th></th>\n      <th>Set</th>\n      <th>MSE</th>\n    </tr>\n  </thead>\n  <tbody>\n    <tr>\n      <th>0</th>\n      <td>train_set</td>\n      <td>2.000000e+00</td>\n    </tr>\n    <tr>\n      <th>1</th>\n      <td>test_set</td>\n      <td>1.720373e-28</td>\n    </tr>\n  </tbody>\n</table>\n</div>"
     },
     "execution_count": 26,
     "metadata": {},
     "output_type": "execute_result"
    }
   ],
   "source": [
    "print(\"It is possible that the train dataset's MSE is higher than the test dataset's MSE, since it's possible that the train data isn't realizable by linear regression - so it's not 0 - and by a chance, the test data only contains entries that fit exactly on the linear regression line. For example, see the code + outcome below:\")\n",
    "\n",
    "# An un-realizable train data\n",
    "example_train_data = pd.DataFrame({'X': [1, 2, 3], 'Y': [1, 4, 1]})\n",
    "example_X_train = example_train_data.drop('Y', axis=1)\n",
    "example_y_train = example_train_data['Y']\n",
    "\n",
    "example_regression_model = LinearRegression()\n",
    "example_regression_model.fit(example_X_train, example_y_train)\n",
    "\n",
    "# A \"perfect\" test data\n",
    "example_test_data = pd.DataFrame({'X': range(100), 'Y': 100 * [2]})\n",
    "example_X_test = example_test_data.drop('Y', axis=1)\n",
    "example_y_test = example_test_data['Y']\n",
    "\n",
    "example_y_hat_train = example_regression_model.predict(example_X_train)\n",
    "example_train_MSE = mean_squared_error(example_y_train, example_y_hat_train)\n",
    "\n",
    "example_y_hat_test = example_regression_model.predict(example_X_test)\n",
    "example_test_MSE = mean_squared_error(example_y_test, example_y_hat_test)\n",
    "pd.DataFrame({'Set': ['train_set', 'test_set'], 'MSE': [example_train_MSE, example_test_MSE]})"
   ],
   "metadata": {
    "collapsed": false,
    "ExecuteTime": {
     "end_time": "2023-06-01T14:00:02.707404100Z",
     "start_time": "2023-06-01T14:00:02.317379900Z"
    }
   }
  },
  {
   "cell_type": "markdown",
   "metadata": {},
   "source": [
    "c) Add some noise (with mean=0, std=1) to the test set's y, and predict it again. What happened to the MSE? Why?"
   ]
  },
  {
   "cell_type": "code",
   "execution_count": 27,
   "outputs": [
    {
     "data": {
      "text/plain": "               Set        MSE\n0         test_set  26.317532\n1  noised_test_set  26.975710",
      "text/html": "<div>\n<style scoped>\n    .dataframe tbody tr th:only-of-type {\n        vertical-align: middle;\n    }\n\n    .dataframe tbody tr th {\n        vertical-align: top;\n    }\n\n    .dataframe thead th {\n        text-align: right;\n    }\n</style>\n<table border=\"1\" class=\"dataframe\">\n  <thead>\n    <tr style=\"text-align: right;\">\n      <th></th>\n      <th>Set</th>\n      <th>MSE</th>\n    </tr>\n  </thead>\n  <tbody>\n    <tr>\n      <th>0</th>\n      <td>test_set</td>\n      <td>26.317532</td>\n    </tr>\n    <tr>\n      <th>1</th>\n      <td>noised_test_set</td>\n      <td>26.975710</td>\n    </tr>\n  </tbody>\n</table>\n</div>"
     },
     "execution_count": 27,
     "metadata": {},
     "output_type": "execute_result"
    }
   ],
   "source": [
    "import numpy as np\n",
    "\n",
    "noise = np.random.normal(0, 1)\n",
    "noised_test_y = y_test + noise\n",
    "\n",
    "y_hat_test = regression_model.predict(X_test)\n",
    "noised_test_MSE = mean_squared_error(noised_test_y, y_hat_test)\n",
    "pd.DataFrame({'Set': ['test_set', 'noised_test_set'], 'MSE': [test_MSE, noised_test_MSE]})"
   ],
   "metadata": {
    "collapsed": false,
    "ExecuteTime": {
     "end_time": "2023-06-01T14:00:02.734405Z",
     "start_time": "2023-06-01T14:00:02.354435900Z"
    }
   }
  },
  {
   "cell_type": "code",
   "execution_count": 28,
   "outputs": [
    {
     "name": "stdout",
     "output_type": "stream",
     "text": [
      "The MSE hasn't changed nearly at all. This makes sense, because the test data is normally-distributed around the linear regression line, so adding a noise from a normal distribution shouldn't affect it much. In other words, since not all of the test X points are exactly on the regression line, some moved closer to it while some moved further away, and in general the MSE remained about the same\n"
     ]
    }
   ],
   "source": [
    "print(\"The MSE hasn't changed nearly at all. This makes sense, because the test data is normally-distributed around the linear regression line, so adding a noise from a normal distribution shouldn't affect it much. In other words, since not all of the test X points are exactly on the regression line, some moved closer to it while some moved further away, and in general the MSE remained about the same\")"
   ],
   "metadata": {
    "collapsed": false,
    "ExecuteTime": {
     "end_time": "2023-06-01T14:00:02.754406100Z",
     "start_time": "2023-06-01T14:00:02.378977900Z"
    }
   }
  },
  {
   "cell_type": "markdown",
   "metadata": {},
   "source": [
    "# Question 3"
   ]
  },
  {
   "cell_type": "markdown",
   "metadata": {},
   "source": [
    "a) Create a Recursive feature elimination model, with a linear regression estimator, that selects half of the original number of features. Hint: Check the feature_selection module in scikit-learn."
   ]
  },
  {
   "cell_type": "code",
   "execution_count": 28,
   "metadata": {
    "collapsed": true,
    "jupyter": {
     "outputs_hidden": true
    },
    "ExecuteTime": {
     "end_time": "2023-06-01T14:00:02.754406100Z",
     "start_time": "2023-06-01T14:00:02.388166100Z"
    }
   },
   "outputs": [],
   "source": []
  },
  {
   "cell_type": "markdown",
   "metadata": {},
   "source": [
    "b) Use the feature elimination model on the full database (after filtering columns with missing values, before partitioning into train/test). Print the features that were selected. Remember that we separate the 'medv' attribute to be our y, while the rest of the attributes in the dataset serve as features to learn from."
   ]
  },
  {
   "cell_type": "code",
   "execution_count": 28,
   "metadata": {
    "collapsed": true,
    "jupyter": {
     "outputs_hidden": true
    },
    "ExecuteTime": {
     "end_time": "2023-06-01T14:00:02.754406100Z",
     "start_time": "2023-06-01T14:00:02.396706Z"
    }
   },
   "outputs": [],
   "source": []
  },
  {
   "cell_type": "markdown",
   "metadata": {},
   "source": [
    "c) We'd like to find out the optimal number of features. Create feature elimination models (with linear regression estimators) for every number of features between 1 and n (where n = all the original features, 'medv' excluded). For each number of features, run a linear regression as in Question 2, only on the selected features, in order to predict 'medv'. Print the Mean Sqaured Error for each number of features."
   ]
  },
  {
   "cell_type": "code",
   "execution_count": 28,
   "metadata": {
    "collapsed": true,
    "jupyter": {
     "outputs_hidden": true
    },
    "ExecuteTime": {
     "end_time": "2023-06-01T14:00:02.754406100Z",
     "start_time": "2023-06-01T14:00:02.402719900Z"
    }
   },
   "outputs": [],
   "source": []
  },
  {
   "cell_type": "markdown",
   "metadata": {},
   "source": [
    "d) Conclude the optimal number of features for this task. Think about the cost of adding for data vs the benefit of a more accurate prediction. Explain your answer."
   ]
  },
  {
   "cell_type": "code",
   "execution_count": 28,
   "metadata": {
    "collapsed": true,
    "jupyter": {
     "outputs_hidden": true
    },
    "ExecuteTime": {
     "end_time": "2023-06-01T14:00:02.757404200Z",
     "start_time": "2023-06-01T14:00:02.412289600Z"
    }
   },
   "outputs": [],
   "source": [
    "\n"
   ]
  },
  {
   "cell_type": "markdown",
   "metadata": {},
   "source": [
    "# Question 4"
   ]
  },
  {
   "cell_type": "markdown",
   "metadata": {},
   "source": [
    "Perform a cross-validation of the linear regression on the train set with K=5. Print the CV scores for each repeat."
   ]
  },
  {
   "cell_type": "code",
   "execution_count": 28,
   "metadata": {
    "collapsed": true,
    "jupyter": {
     "outputs_hidden": true
    },
    "ExecuteTime": {
     "end_time": "2023-06-01T14:00:02.757404200Z",
     "start_time": "2023-06-01T14:00:02.421698300Z"
    }
   },
   "outputs": [],
   "source": []
  }
 ],
 "metadata": {
  "anaconda-cloud": {},
  "kernelspec": {
   "display_name": "Python 3",
   "language": "python",
   "name": "python3"
  },
  "language_info": {
   "codemirror_mode": {
    "name": "ipython",
    "version": 3
   },
   "file_extension": ".py",
   "mimetype": "text/x-python",
   "name": "python",
   "nbconvert_exporter": "python",
   "pygments_lexer": "ipython3",
   "version": "3.8.0"
  }
 },
 "nbformat": 4,
 "nbformat_minor": 4
}
