{
 "cells": [
  {
   "attachments": {},
   "cell_type": "markdown",
   "metadata": {},
   "source": [
    "Since the HW grading is done in a semi-automatic manner, please adhere to the following naming format for your submission.\n",
    "Each group of students (mostly pairs, with some approved exceptions) should submit a Jupyter notebook (.ipynb file and not a .zip file) whose name is the underscored-separated id list of all the submitters. \n",
    "For example, for two submitters, the naming format is: id1_id2.ipynb."
   ]
  },
  {
   "attachments": {},
   "cell_type": "markdown",
   "metadata": {},
   "source": [
    "# Question 1"
   ]
  },
  {
   "cell_type": "code",
   "execution_count": 66,
   "metadata": {},
   "outputs": [],
   "source": [
    "import pandas as pd\n",
    "import numpy as np\n",
    "df = pd.read_csv(\"Boston1.csv\")"
   ]
  },
  {
   "cell_type": "code",
   "execution_count": 67,
   "metadata": {},
   "outputs": [
    {
     "name": "stdout",
     "output_type": "stream",
     "text": [
      "Shape: (506, 16)\n",
      "Features: ['crim', 'zn', 'indus', 'chas', 'nox', 'rm', 'age', 'dis', 'rad', 'tax', 'ptratio', 'black', 'lstat', 'medv', 'randCol', 'misData']\n"
     ]
    }
   ],
   "source": [
    "# Exploring the data:\n",
    "print(\"Shape:\",df.shape)\n",
    "print(f\"Features: {df.columns.tolist()}\")"
   ]
  },
  {
   "attachments": {},
   "cell_type": "markdown",
   "metadata": {},
   "source": [
    "a) Download the \"Boston1.csv\" database, and explore the data. Explanation about the dataset can be found here: http://www.clemson.edu/economics/faculty/wilson/R-tutorial/analyzing_data.html\n",
    "\n",
    "Find the columns with missing values and filter them out of the data."
   ]
  },
  {
   "cell_type": "code",
   "execution_count": 68,
   "metadata": {
    "collapsed": true,
    "jupyter": {
     "outputs_hidden": true
    }
   },
   "outputs": [],
   "source": [
    "df = df.dropna(axis=1) # droping columns with missing values"
   ]
  },
  {
   "attachments": {},
   "cell_type": "markdown",
   "metadata": {},
   "source": [
    "b) Divide the filtered data randomly into a train set (70% of the data) and test set (30% of the data)."
   ]
  },
  {
   "cell_type": "code",
   "execution_count": 69,
   "metadata": {
    "collapsed": true,
    "jupyter": {
     "outputs_hidden": true
    }
   },
   "outputs": [],
   "source": [
    "from sklearn.model_selection import train_test_split\n",
    "train_set, test_set = train_test_split(df,test_size=0.3)"
   ]
  },
  {
   "attachments": {},
   "cell_type": "markdown",
   "metadata": {},
   "source": [
    "# Question 2"
   ]
  },
  {
   "attachments": {},
   "cell_type": "markdown",
   "metadata": {},
   "source": [
    "If you haven't done this previously, install the scikit-learn package for python.\n",
    "\n",
    "a) On the train set, run a linear regression model as follows:\n",
    "Divide the training set into explanatory variables (the X matrix with which we'll try to make a prediction) and a target variable (y, the value which we'll try to predict). Use the 'medv' attribute as the target variable y and the rest of the features as the X matrix. Run a linear regression model on those sets, and print the regression coefficients. "
   ]
  },
  {
   "cell_type": "code",
   "execution_count": 70,
   "metadata": {
    "collapsed": true,
    "jupyter": {
     "outputs_hidden": true
    }
   },
   "outputs": [
    {
     "data": {
      "text/plain": [
       "array([-8.45635686e-02,  3.56241848e-02,  3.15633587e-02,  7.55997593e-01,\n",
       "       -1.48184498e+01,  3.52065843e+00, -1.26307055e-02, -1.41127681e+00,\n",
       "        2.61438988e-01, -1.34012182e-02, -1.00359964e+00,  8.66274988e-03,\n",
       "       -5.23313325e-01,  1.34302275e+00])"
      ]
     },
     "execution_count": 70,
     "metadata": {},
     "output_type": "execute_result"
    }
   ],
   "source": [
    "from sklearn.linear_model import LinearRegression\n",
    "train_y = train_set[\"medv\"]\n",
    "train_X = train_set.drop(columns=[\"medv\"])\n",
    "model = LinearRegression()\n",
    "model.fit(train_X.values,train_y)\n",
    "model.coef_\n"
   ]
  },
  {
   "attachments": {},
   "cell_type": "markdown",
   "metadata": {},
   "source": [
    "b) Use the linear regression model to predict the values of the test set's 'medv' column, based on the test set's other attributes. Print the Mean Squared Error of the model on the train set and on the test set.\n",
    "Usually, the MSE on the train set would be lower than the MSE on the test set, since the model parameters are optimized with respect to the train set. Must this always be the case? Can you think of a few examples for when this might not be the case?"
   ]
  },
  {
   "cell_type": "code",
   "execution_count": 71,
   "metadata": {
    "collapsed": true,
    "jupyter": {
     "outputs_hidden": true
    }
   },
   "outputs": [
    {
     "name": "stdout",
     "output_type": "stream",
     "text": [
      "MSE(Train set)=18.67603197012738\n",
      "MSE(Test set)=31.338001113540688\n"
     ]
    }
   ],
   "source": [
    "from sklearn.metrics import mean_squared_error as mse\n",
    "test_y = test_set[\"medv\"]\n",
    "test_X = test_set.drop(columns=[\"medv\"])\n",
    "prediction_on_test = model.predict(test_X.values)\n",
    "prediction_on_train = model.predict(train_X.values)\n",
    "    \n",
    "print(f\"MSE(Train set)={mse(prediction_on_train,train_y)}\")\n",
    "print(f\"MSE(Test set)={mse(prediction_on_test,test_y)}\")"
   ]
  },
  {
   "attachments": {},
   "cell_type": "markdown",
   "metadata": {},
   "source": [
    "<u>Is the MSE on the test set is always lower then MSE on the train set?</u> </br>\n",
    "This might not be always the case. It could be that the test points positioned excatly on the linear line we the model found. Althogh it is very unlikely. </br>\n",
    "Example: in R^2: 3 train points that has almost linear relation: (5.001,5.001), (4.001,4.001), (3.001,3.001). and the test case could be (1,1) and (2,2) then the train has 0 error on f(x)=x where f is the linear model that has been predicted"
   ]
  },
  {
   "attachments": {},
   "cell_type": "markdown",
   "metadata": {},
   "source": [
    "c) Add some noise (with mean=0, std=1) to the test set's y, and predict it again. What happened to the MSE? Why?"
   ]
  },
  {
   "cell_type": "code",
   "execution_count": 72,
   "metadata": {},
   "outputs": [
    {
     "name": "stdout",
     "output_type": "stream",
     "text": [
      "MSE(Noised test set) = 33.66450678655553\n"
     ]
    }
   ],
   "source": [
    "noise = np.random.normal(loc=0,scale=1,size=len(test_y.values))\n",
    "noised_test_y = test_y+noise\n",
    "print(f\"MSE(Noised test set) = {mse(prediction_on_test,noised_test_y)}\")"
   ]
  },
  {
   "attachments": {},
   "cell_type": "markdown",
   "metadata": {},
   "source": [
    "The MSE increased by a little bit.\n",
    "That's because we increased the distance from the linear model by increasing the desired output. The impact of the added noise on the MSE  is negligible becuase the std is somehow small compared to the std of the real disribution of the data"
   ]
  },
  {
   "attachments": {},
   "cell_type": "markdown",
   "metadata": {},
   "source": [
    "# Question 3"
   ]
  },
  {
   "attachments": {},
   "cell_type": "markdown",
   "metadata": {},
   "source": [
    "a) Create a Recursive feature elimination model, with a linear regression estimator, that selects half of the original number of features. Hint: Check the feature_selection module in scikit-learn."
   ]
  },
  {
   "cell_type": "code",
   "execution_count": 73,
   "metadata": {
    "collapsed": true,
    "jupyter": {
     "outputs_hidden": true
    }
   },
   "outputs": [],
   "source": [
    "from sklearn.feature_selection import RFE\n",
    "rfe = RFE(model)"
   ]
  },
  {
   "attachments": {},
   "cell_type": "markdown",
   "metadata": {},
   "source": [
    "b) Use the feature elimination model on the full database (after filtering columns with missing values, before partitioning into train/test). Print the features that were selected. Remember that we separate the 'medv' attribute to be our y, while the rest of the attributes in the dataset serve as features to learn from."
   ]
  },
  {
   "cell_type": "code",
   "execution_count": 74,
   "metadata": {
    "collapsed": true,
    "jupyter": {
     "outputs_hidden": true
    }
   },
   "outputs": [
    {
     "data": {
      "text/plain": [
       "['chas', 'nox', 'rm', 'dis', 'ptratio', 'lstat', 'randCol']"
      ]
     },
     "execution_count": 74,
     "metadata": {},
     "output_type": "execute_result"
    }
   ],
   "source": [
    "X = df.drop(columns=[\"medv\"])\n",
    "y = df[\"medv\"]\n",
    "rfe_model = rfe.fit(X.values,y)\n",
    "X.columns[rfe_model.get_support()].tolist()"
   ]
  },
  {
   "attachments": {},
   "cell_type": "markdown",
   "metadata": {},
   "source": [
    "c) We'd like to find out the optimal number of features. Create feature elimination models (with linear regression estimators) for every number of features between 1 and n (where n = all the original features, 'medv' excluded). For each number of features, run a linear regression as in Question 2, only on the selected features, in order to predict 'medv'. Print the Mean Sqaured Error for each number of features."
   ]
  },
  {
   "cell_type": "code",
   "execution_count": 75,
   "metadata": {
    "collapsed": true,
    "jupyter": {
     "outputs_hidden": true
    }
   },
   "outputs": [
    {
     "name": "stdout",
     "output_type": "stream",
     "text": [
      "MSE for 1 selected features:  85.44212281560185\n",
      "MSE for 2 selected features:  48.63029133462119\n",
      "MSE for 3 selected features:  45.08253332506316\n",
      "MSE for 4 selected features:  42.68890939691047\n",
      "MSE for 5 selected features:  43.11278011556289\n",
      "MSE for 6 selected features:  40.91947282755406\n",
      "MSE for 7 selected features:  34.15094987511685\n",
      "MSE for 8 selected features:  33.86610502734234\n",
      "MSE for 9 selected features:  33.05796159061655\n",
      "MSE for 10 selected features:  32.92706032850972\n",
      "MSE for 11 selected features:  32.25739413310582\n",
      "MSE for 12 selected features:  31.74947343940744\n",
      "MSE for 13 selected features:  31.95720305185723\n",
      "MSE for 14 selected features:  31.338001113540688\n"
     ]
    }
   ],
   "source": [
    "mse_i_list = list()\n",
    "features_number =  len(df.columns) -1\n",
    "for i in range(1,features_number+1):\n",
    "    rfe_i = RFE(model,n_features_to_select=i)\n",
    "    rfe_model = rfe_i.fit(train_X.values,train_y)\n",
    "    selected_features = train_X.columns[rfe_model.get_support()].tolist()\n",
    "    selected_X = train_X.reindex(columns = selected_features)\n",
    "    model.fit(selected_X.values,train_y) \n",
    "    selected_X_test = test_X.reindex(columns = selected_features)\n",
    "    mse_i = mse(model.predict(selected_X_test.values),test_y)\n",
    "    mse_i_list.append(mse_i)\n",
    "    print(\"MSE for\",i,\"selected features: \",mse_i)\n"
   ]
  },
  {
   "attachments": {},
   "cell_type": "markdown",
   "metadata": {},
   "source": [
    "d) Conclude the optimal number of features for this task. Think about the cost of adding for data vs the benefit of a more accurate prediction. Explain your answer."
   ]
  },
  {
   "cell_type": "code",
   "execution_count": 84,
   "metadata": {
    "collapsed": true,
    "jupyter": {
     "outputs_hidden": true
    }
   },
   "outputs": [
    {
     "data": {
      "text/plain": [
       "Text(0, 0.5, 'MSE')"
      ]
     },
     "execution_count": 84,
     "metadata": {},
     "output_type": "execute_result"
    },
    {
     "data": {
      "image/png": "[encoded data removed]",
      "text/plain": [
       "<Figure size 640x480 with 1 Axes>"
      ]
     },
     "metadata": {},
     "output_type": "display_data"
    }
   ],
   "source": [
    "import matplotlib.pyplot as plt \n",
    "plt.scatter(range(1,features_number+1),mse_i_list)\n",
    "plt.xticks(range(1,features_number+1,1))\n",
    "plt.xlabel(\"number of features\")\n",
    "plt.ylabel(\"MSE\")"
   ]
  },
  {
   "attachments": {},
   "cell_type": "markdown",
   "metadata": {},
   "source": [
    "We can see that the MSE achieved from 7 features isn't changing that much after adding more features. therefore 7 is the optimal number of features. </br>\n",
    "By eliminating irrelevant features, we cam improve the model's performance -  reduce overfitting, enhance interpretability, and speed up inference times."
   ]
  },
  {
   "attachments": {},
   "cell_type": "markdown",
   "metadata": {},
   "source": [
    "# Question 4"
   ]
  },
  {
   "attachments": {},
   "cell_type": "markdown",
   "metadata": {},
   "source": [
    "Perform a cross-validation of the linear regression on the train set with K=5. Print the CV scores for each repeat."
   ]
  },
  {
   "cell_type": "code",
   "execution_count": 77,
   "metadata": {
    "collapsed": true,
    "jupyter": {
     "outputs_hidden": true
    }
   },
   "outputs": [
    {
     "name": "stdout",
     "output_type": "stream",
     "text": [
      "[0.59877808 0.83666525 0.60981856 0.7949658  0.72833927]\n"
     ]
    }
   ],
   "source": [
    "from sklearn.model_selection import cross_val_score\n",
    "\n",
    "print(cross_val_score(model, train_X, train_y, cv=5))"
   ]
  }
 ],
 "metadata": {
  "anaconda-cloud": {},
  "kernelspec": {
   "display_name": "Python 3",
   "language": "python",
   "name": "python3"
  },
  "language_info": {
   "codemirror_mode": {
    "name": "ipython",
    "version": 3
   },
   "file_extension": ".py",
   "mimetype": "text/x-python",
   "name": "python",
   "nbconvert_exporter": "python",
   "pygments_lexer": "ipython3",
   "version": "3.11.2"
  }
 },
 "nbformat": 4,
 "nbformat_minor": 4
}
